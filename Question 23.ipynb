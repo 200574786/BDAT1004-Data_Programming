{
 "cells": [
  {
   "cell_type": "code",
   "execution_count": 3,
   "metadata": {},
   "outputs": [
    {
     "name": "stdout",
     "output_type": "stream",
     "text": [
      "*\n",
      "**\n",
      "***\n",
      " *\n",
      "****\n",
      "  *\n",
      "  **\n"
     ]
    }
   ],
   "source": [
    "def tough(indentation, stars):\n",
    "    if stars == 0:\n",
    "        return\n",
    "    else:\n",
    "        tough(indentation, stars - 1)\n",
    "        print(' ' * indentation + '*' * stars)\n",
    "        if stars > 1:\n",
    "            tough(indentation + stars - 2, stars - 2)\n",
    "\n",
    "tough(0,4)\n",
    "     "
   ]
  }
 ],
 "metadata": {
  "kernelspec": {
   "display_name": "Python 3",
   "language": "python",
   "name": "python3"
  },
  "language_info": {
   "codemirror_mode": {
    "name": "ipython",
    "version": 3
   },
   "file_extension": ".py",
   "mimetype": "text/x-python",
   "name": "python",
   "nbconvert_exporter": "python",
   "pygments_lexer": "ipython3",
   "version": "3.9.6"
  }
 },
 "nbformat": 4,
 "nbformat_minor": 2
}
