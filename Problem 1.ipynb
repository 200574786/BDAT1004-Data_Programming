{
 "cells": [
  {
   "cell_type": "markdown",
   "id": "22a0a1c1",
   "metadata": {},
   "source": [
    "# Assignment 1 "
   ]
  },
  {
   "cell_type": "markdown",
   "id": "0fa18d44",
   "metadata": {},
   "source": [
    "Question 1: What data type is each of the following (evaluate where necessary)?"
   ]
  },
  {
   "cell_type": "code",
   "execution_count": 1,
   "id": "f3065a26",
   "metadata": {},
   "outputs": [
    {
     "name": "stdout",
     "output_type": "stream",
     "text": [
      "<class 'int'>\n"
     ]
    }
   ],
   "source": [
    "x = 5\n",
    "print(type(x))"
   ]
  },
  {
   "cell_type": "code",
   "execution_count": 2,
   "id": "b39923c6",
   "metadata": {},
   "outputs": [
    {
     "name": "stdout",
     "output_type": "stream",
     "text": [
      "<class 'float'>\n"
     ]
    }
   ],
   "source": [
    "x = 5.0;\n",
    "print(type(x))"
   ]
  },
  {
   "cell_type": "code",
   "execution_count": 3,
   "id": "269062ae",
   "metadata": {},
   "outputs": [
    {
     "name": "stdout",
     "output_type": "stream",
     "text": [
      "<class 'bool'>\n"
     ]
    }
   ],
   "source": [
    "print(type(5>1))"
   ]
  },
  {
   "cell_type": "code",
   "execution_count": 4,
   "id": "27a86fe2",
   "metadata": {},
   "outputs": [
    {
     "name": "stdout",
     "output_type": "stream",
     "text": [
      "<class 'str'>\n"
     ]
    }
   ],
   "source": [
    "x = '5'\n",
    "print(type(x))"
   ]
  },
  {
   "cell_type": "code",
   "execution_count": 5,
   "id": "769edc52",
   "metadata": {},
   "outputs": [
    {
     "name": "stdout",
     "output_type": "stream",
     "text": [
      "<class 'int'>\n"
     ]
    }
   ],
   "source": [
    "x = (5*2)\n",
    "print(type(x))"
   ]
  },
  {
   "cell_type": "code",
   "execution_count": 6,
   "id": "e1e3699e",
   "metadata": {},
   "outputs": [
    {
     "name": "stdout",
     "output_type": "stream",
     "text": [
      "<class 'str'>\n"
     ]
    }
   ],
   "source": [
    "x = '5' + '2'\n",
    "print(type(x))"
   ]
  },
  {
   "cell_type": "code",
   "execution_count": 7,
   "id": "a5b7f36e",
   "metadata": {},
   "outputs": [
    {
     "name": "stdout",
     "output_type": "stream",
     "text": [
      "<class 'float'>\n"
     ]
    }
   ],
   "source": [
    "x = 5 / 2\n",
    "print(type(x))"
   ]
  },
  {
   "cell_type": "code",
   "execution_count": 8,
   "id": "f47e4dec",
   "metadata": {},
   "outputs": [
    {
     "name": "stdout",
     "output_type": "stream",
     "text": [
      "<class 'int'>\n"
     ]
    }
   ],
   "source": [
    "x = 5 % 2\n",
    "print(type(x))"
   ]
  },
  {
   "cell_type": "code",
   "execution_count": 9,
   "id": "09e13884",
   "metadata": {},
   "outputs": [
    {
     "name": "stdout",
     "output_type": "stream",
     "text": [
      "<class 'set'>\n"
     ]
    }
   ],
   "source": [
    "x = {5, 2, 1}\n",
    "print(type(x))"
   ]
  },
  {
   "cell_type": "code",
   "execution_count": 10,
   "id": "d40114bd",
   "metadata": {},
   "outputs": [
    {
     "name": "stdout",
     "output_type": "stream",
     "text": [
      "<class 'bool'>\n"
     ]
    }
   ],
   "source": [
    "print(type(5==3))"
   ]
  },
  {
   "cell_type": "code",
   "execution_count": 11,
   "id": "96ef77c2",
   "metadata": {},
   "outputs": [
    {
     "name": "stdout",
     "output_type": "stream",
     "text": [
      "<class 'float'>\n"
     ]
    }
   ],
   "source": [
    "import math\n",
    "print(type(math.pi))"
   ]
  },
  {
   "cell_type": "markdown",
   "id": "93f3f8bf",
   "metadata": {},
   "source": [
    "Question 2: Write (and evaluate) python expressions that answer these questions:"
   ]
  },
  {
   "cell_type": "code",
   "execution_count": 12,
   "id": "62074af5",
   "metadata": {},
   "outputs": [
    {
     "name": "stdout",
     "output_type": "stream",
     "text": [
      "34\n"
     ]
    }
   ],
   "source": [
    "print(len(\"Supercalifragilisticexpialidocious\"))"
   ]
  },
  {
   "cell_type": "code",
   "execution_count": 13,
   "id": "bddf94e8",
   "metadata": {},
   "outputs": [
    {
     "name": "stdout",
     "output_type": "stream",
     "text": [
      "True\n"
     ]
    }
   ],
   "source": [
    "print('ice' in 'Supercalifragilisticexpialidocious' )"
   ]
  },
  {
   "cell_type": "code",
   "execution_count": 29,
   "id": "d11a765f",
   "metadata": {},
   "outputs": [
    {
     "name": "stdout",
     "output_type": "stream",
     "text": [
      "The longest word is orBababadalgharaghtakamminarronnkonn\n"
     ]
    }
   ],
   "source": [
    "strings = [\"Supercalifragilisticexpialidocious\",\"Honorificabilitudinitatibus\",\"orBababadalgharaghtakamminarronnkonn\"]\n",
    "long_word = \"\"\n",
    "for x in strings:\n",
    "    if(len(x)>len(long_word)):\n",
    "        long_word = x\n",
    "print(\"The longest word is \" + long_word)"
   ]
  },
  {
   "cell_type": "code",
   "execution_count": 15,
   "id": "8eff9f76",
   "metadata": {},
   "outputs": [
    {
     "name": "stdout",
     "output_type": "stream",
     "text": [
      "['Bartok', 'Bellini', 'Berlioz', 'Bernstein', 'Borodin', 'Brian', 'Buxtehude']\n"
     ]
    }
   ],
   "source": [
    "strings = ['Berlioz', 'Borodin', 'Brian','Bartok', 'Bellini', 'Buxtehude', 'Bernstein']\n",
    "strings = sorted(strings)\n",
    "print(strings)"
   ]
  },
  {
   "cell_type": "markdown",
   "id": "9c13873f",
   "metadata": {},
   "source": [
    "Question 3: Implement function triangleArea (a,b,c) that takes as input the lengths of the 3sides of a triangle and returns the area of the triangle. By Heron's formula, the areaof a triangle with side lengths a, b, and c is s(s - a)(s - b)(s - c) , wheres = (a + b + c) /2"
   ]
  },
  {
   "cell_type": "code",
   "execution_count": 16,
   "id": "b7794781",
   "metadata": {},
   "outputs": [
    {
     "name": "stdout",
     "output_type": "stream",
     "text": [
      "1.7320508075688772\n"
     ]
    }
   ],
   "source": [
    "import math\n",
    "def triangeArea(a, b,c):\n",
    "    s = ((a+b+c)/2)\n",
    "    area = math.sqrt(s*(s-a)*(s-b)*(s-c))\n",
    "    return area\n",
    "print(triangeArea(2,2,2))"
   ]
  },
  {
   "cell_type": "markdown",
   "id": "518448b7",
   "metadata": {},
   "source": [
    "Question 4: Write a program in python to separate odd and even integers in separate arrays. Goto the editorTest Data :Input the number of elements to be stored in the array : 5 \n",
    "Input 5 elements in the array : element - 0 : 25 element - 1 : 47 element - 2 : 42 element - 3 : 56 element - 4 : 32 "
   ]
  },
  {
   "cell_type": "code",
   "execution_count": 33,
   "id": "36cdc510",
   "metadata": {},
   "outputs": [
    {
     "name": "stdout",
     "output_type": "stream",
     "text": [
      "Even elements: [42, 56, 32]\n",
      "Odd elements: [25, 47]\n"
     ]
    }
   ],
   "source": [
    "even_nums = []\n",
    "odd_nums = []\n",
    "given_string = [25,47,42,56,32]\n",
    "for x in given_string:\n",
    "    if(x%2==0):\n",
    "        even_nums.append(x)\n",
    "    else:\n",
    "        odd_nums.append(x)\n",
    "\n",
    "print(\"Even elements:\", even_nums)\n",
    "print(\"Odd elements:\",odd_nums)"
   ]
  },
  {
   "cell_type": "markdown",
   "id": "821be196",
   "metadata": {},
   "source": [
    "Question 5:\n",
    "\n",
    "a. Write a function inside(x,y,x1,y1,x2,y2) that returns True or Falsedepending on whether the point (x,y) lies in the rectangle with lower leftcorner (x1,y1) and upper right corner (x2,y2)."
   ]
  },
  {
   "cell_type": "code",
   "execution_count": 18,
   "id": "9d7bbec9",
   "metadata": {},
   "outputs": [
    {
     "name": "stdout",
     "output_type": "stream",
     "text": [
      "True\n",
      "False\n"
     ]
    }
   ],
   "source": [
    "def inside(x,y,x1,y1,x2,y2):\n",
    "    if (x > x1 and x < x2 and\n",
    "        y > y1 and y < y2) :\n",
    "        return True\n",
    "    else :\n",
    "        return False\n",
    "print(inside(1,1,0,0,2,3))\n",
    "print(inside(-1,-1,0,0,2,3))"
   ]
  },
  {
   "cell_type": "markdown",
   "id": "638a4210",
   "metadata": {},
   "source": [
    "b. Use function inside() from part a. to write an expression that tests whetherthe point (1,1) lies in both of the following rectangles: one with lower leftcorner (0.3, 0.5) and upper right corner (1.1, 0.7) and the other with lowerleft corner (0.5, 0.2) and upper right corner (1.1, 2)."
   ]
  },
  {
   "cell_type": "code",
   "execution_count": 19,
   "id": "78a4ffa5",
   "metadata": {},
   "outputs": [
    {
     "name": "stdout",
     "output_type": "stream",
     "text": [
      "False\n",
      "True\n"
     ]
    }
   ],
   "source": [
    "def inside(x,y,x1,y1,x2,y2):\n",
    "    if (x > x1 and x < x2 and\n",
    "        y > y1 and y < y2) :\n",
    "        return True\n",
    "    else :\n",
    "        return False\n",
    "print(inside(1,1,0.3,0.5,1.1,0.7))\n",
    "print(inside(1,1,0.5,0.2,1.1,2.0))"
   ]
  },
  {
   "cell_type": "markdown",
   "id": "9e159a94",
   "metadata": {},
   "source": [
    "Question 6: You can turn a word into pig-Latin using the following two rules (simplified): • If the word starts with a consonant, move that letter to the end and append'ay'. For example, 'happy' becomes 'appyhay' and 'pencil' becomes 'encilpay'. • If the word starts with a vowel, simply append 'way' to the end of the word.For example, 'enter' becomes 'enterway' and 'other' becomes 'otherway' . Forour purposes, there are 5 vowels: a, e, i, o, u (so we count y as a consonant). Write a function pig() that takes a word (i.e., a string) as input and returns its pig-Latin form. Your function should still work if the input word contains upper casecharacters. Your output should always be lower case however."
   ]
  },
  {
   "cell_type": "code",
   "execution_count": 20,
   "id": "d526534a",
   "metadata": {},
   "outputs": [
    {
     "name": "stdout",
     "output_type": "stream",
     "text": [
      "Enter a string\n",
      "200574786@dhruv\n",
      "00574786@dhruv2ay\n",
      "\n",
      "Enter a string\n",
      "HelloWorld\n",
      "elloWorldHay\n"
     ]
    }
   ],
   "source": [
    "def pig(get_input):\n",
    "    string = get_input\n",
    "    arr_char = []\n",
    "    for x in string:\n",
    "            arr_char.append(x)\n",
    "    concat_string = \"\"\n",
    "    x = arr_char[0]\n",
    "\n",
    "             \n",
    "    if(x=='a' or x=='e' or x=='i' or x=='o' or x=='u'):\n",
    "            arr_char.append('way')\n",
    "    else:\n",
    "            arr_char.pop(0)\n",
    "            arr_char.append(x)\n",
    "            arr_char.append('ay') \n",
    "              \n",
    "    for x in arr_char:\n",
    "            concat_string +=x\n",
    "\n",
    "    return concat_string\n",
    "\n",
    "print(\"Enter a string\")\n",
    "get_value_from_user = input()\n",
    "print(pig(get_value_from_user))\n",
    "print(\"\\nEnter a string\")\n",
    "get_value_from_user = input()\n",
    "print(pig(get_value_from_user))"
   ]
  },
  {
   "cell_type": "markdown",
   "id": "bc2cd990",
   "metadata": {},
   "source": [
    "Question 7: File bloodtype1.txt records blood-types of patients (A, B, AB, O or OO) at a clinic.Write a function bldcount() that reads the file with name name and reports (i.e.,prints) how many patients there are in each bloodtype."
   ]
  },
  {
   "cell_type": "code",
   "execution_count": 38,
   "id": "6093c186",
   "metadata": {},
   "outputs": [
    {
     "name": "stdout",
     "output_type": "stream",
     "text": [
      "There are 15 patients with blood group A\n",
      "There are 1 patients with blood group B\n",
      "There are 13 patients with blood group AB\n",
      "There are 15 patients with blood group O\n",
      "There are 0 patients with blood group OO\n"
     ]
    }
   ],
   "source": [
    "file_path = \"bloodtype.txt\"\n",
    "\n",
    "with open(file_path, \"w\") as file:\n",
    "    file.write(\"AB AB B O A A AB O AB A O O A A A O O O AB O A A A A A AB AB A AB O AB O A O O O AB O AB AB AB A A O\")\n",
    "with open(file_path, \"r\") as file:\n",
    "    get_data = file.read()\n",
    "    \n",
    "get_count = 0\n",
    "covert_array = get_data.split()\n",
    "base_data = ['A','B','AB','O','OO']\n",
    "for x in base_data:\n",
    "    get_count = covert_array.count(x)\n",
    "    print(\"There are {0} patients with blood group {1}\".format(get_count,x))\n",
    "    "
   ]
  },
  {
   "cell_type": "markdown",
   "id": "6398023d",
   "metadata": {},
   "source": [
    "Question 8: Write a function curconv() that takes as input:\n",
    "\n",
    "a currency represented using a string (e.g., 'JPY' for the Japanese Yen or'EUR' for the Euro)\n",
    "an amount\n",
    "and then converts and returns the amount in US dollars."
   ]
  },
  {
   "cell_type": "code",
   "execution_count": 1,
   "id": "879eac95",
   "metadata": {},
   "outputs": [
    {
     "name": "stdout",
     "output_type": "stream",
     "text": [
      "Enter the currency: AUD\n",
      "Enter the amount: 100\n",
      "100.0 AUD is equivalent to 103.45 USD\n"
     ]
    }
   ],
   "source": [
    "currency = input(\"Enter the currency: \")\n",
    "amount = float(input(\"Enter the amount: \"))\n",
    "\n",
    "currency_rates = \"\"\"AUD 1.0345157 Australian Dollar\n",
    "CHF 1.0237414 Swiss Franc\n",
    "CNY 0.1550176 Chinese Yuan\n",
    "DKK 0.1651442 Danish Krone\n",
    "EUR 1.2296544 Euro\n",
    "GBP 1.5550989 British Pound\n",
    "HKD 0.1270207 Hong Kong Dollar\n",
    "INR 0.0177643 Indian Rupee\n",
    "JPY 0.01241401 Japanese Yen\n",
    "MXN 0.0751848 Mexican Peso\n",
    "MYR 0.3145411 Malaysian Ringgit\n",
    "NOK 0.1677063 Norwegian Krone\n",
    "NZD 0.8003591 New Zealand Dollar\n",
    "PHP 0.0233234 Philippine Peso\n",
    "SEK 0.148269 Swedish Krona\n",
    "SGD 0.788871 Singapore Dollar\n",
    "THB 0.0313789 Thai Baht\"\"\"\n",
    "\n",
    "with open(\"currencies.txt\", \"w\") as file:\n",
    "    file.write(currency_rates)\n",
    "def curconv(currency, amount):\n",
    "    currency_rates = {}\n",
    "    with open(\"currencies.txt\", \"r\") as file:\n",
    "        for line in file:\n",
    "            parts = line.strip().split()\n",
    "            currency_rates[parts[0]] = float(parts[1])\n",
    "            \n",
    "    if currency in currency_rates:\n",
    "        \n",
    "        usd_amount = amount * currency_rates[currency]\n",
    "        return usd_amount\n",
    "    \n",
    "usd = curconv(currency, amount)\n",
    "print(f\"{amount} {currency} is equivalent to {usd:.2f} USD\")"
   ]
  },
  {
   "cell_type": "markdown",
   "id": "180e7953",
   "metadata": {},
   "source": [
    "Question 9: Each of the following will cause an exception (an error). Identify what type of exception each will cause.\n",
    "\n",
    "1.) Trying to add incompatible variables, as in adding 6 + ‘a’\n",
    "\n",
    "unsupported operand type\n",
    "\n",
    "2.) Referring to the 12th item of a list that has only 10 items\n",
    "\n",
    "list index out of range\n",
    "\n",
    "3.) Using a value that is out of range for a function’s input, such as calling math.sqrt( 1.0)\n",
    "\n",
    "math domain error\n",
    "\n",
    "4.) Using an undeclared variable, such as print(x) when x has not been defined\n",
    "\n",
    "'x' is not defined\n",
    "\n",
    "5.) Trying to open a file that does not exist, such as mistyping the file name or looking in the wrong directory.\n",
    "\n",
    "No such file or directory"
   ]
  },
  {
   "cell_type": "code",
   "execution_count": 34,
   "id": "9f4a3905",
   "metadata": {},
   "outputs": [
    {
     "ename": "TypeError",
     "evalue": "unsupported operand type(s) for +: 'int' and 'str'",
     "output_type": "error",
     "traceback": [
      "\u001b[0;31m---------------------------------------------------------------------------\u001b[0m",
      "\u001b[0;31mTypeError\u001b[0m                                 Traceback (most recent call last)",
      "Cell \u001b[0;32mIn[34], line 1\u001b[0m\n\u001b[0;32m----> 1\u001b[0m \u001b[38;5;28mprint\u001b[39m(\u001b[38;5;241m6\u001b[39m \u001b[38;5;241m+\u001b[39m \u001b[38;5;124m'\u001b[39m\u001b[38;5;124ma\u001b[39m\u001b[38;5;124m'\u001b[39m)\n",
      "\u001b[0;31mTypeError\u001b[0m: unsupported operand type(s) for +: 'int' and 'str'"
     ]
    }
   ],
   "source": [
    "print(6 + 'a')"
   ]
  },
  {
   "cell_type": "markdown",
   "id": "6f8c6f28",
   "metadata": {},
   "source": [
    "Question 10: Encryption is the process of hiding the meaning of a text by substituting letters in the message with other letters, according to some system. If the process is successful, no one but the intended recipient can understand the encrypted message. Cryptanalysis refers to attempts to undo the encryption, even if some details of the encryption are unknown (for example, if an encrypted message has been intercepted). The first step of cryptanalysis is often to build up a table of letter frequencies in the encrypted text. Assume that the string letters is already defined as 'abcdefghijklmnopqrstuvwxyz'. Write a function called frequencies() that takes a string as its only parameter, and returns a list of integers, showing the number of times each character appears in the text. Your function may ignore any characters that are not in letters."
   ]
  },
  {
   "cell_type": "code",
   "execution_count": 35,
   "id": "92bf49c4",
   "metadata": {},
   "outputs": [
    {
     "name": "stdout",
     "output_type": "stream",
     "text": [
      "1\n",
      "1\n",
      "1\n",
      "3\n",
      "5\n",
      "1\n",
      "1\n",
      "2\n",
      "1\n",
      "0\n",
      "1\n",
      "0\n",
      "1\n",
      "2\n",
      "4\n",
      "0\n",
      "1\n",
      "2\n",
      "0\n",
      "2\n",
      "1\n",
      "0\n",
      "1\n",
      "1\n",
      "0\n",
      "0\n",
      "1\n",
      "0\n",
      "0\n",
      "0\n",
      "1\n",
      "0\n",
      "0\n",
      "0\n",
      "0\n",
      "0\n",
      "0\n",
      "1\n",
      "0\n",
      "0\n",
      "0\n",
      "2\n",
      "0\n",
      "0\n",
      "0\n",
      "0\n",
      "0\n",
      "0\n",
      "0\n",
      "0\n",
      "0\n",
      "0\n"
     ]
    }
   ],
   "source": [
    "def frequencies(get_string):\n",
    "    char_string = []\n",
    "    string_alphabets = \"abcdefghijklmnopkrstuvwxyz\"\n",
    "\n",
    "    for x in get_string:\n",
    "        char_string.append(x)\n",
    "    \n",
    "    for x in string_alphabets:\n",
    "        print(char_string.count(x))\n",
    "        \n",
    "\n",
    "frequencies('The quick red fox got bored and went home')\n",
    "frequencies('apple')"
   ]
  }
 ],
 "metadata": {
  "kernelspec": {
   "display_name": "Python 3 (ipykernel)",
   "language": "python",
   "name": "python3"
  },
  "language_info": {
   "codemirror_mode": {
    "name": "ipython",
    "version": 3
   },
   "file_extension": ".py",
   "mimetype": "text/x-python",
   "name": "python",
   "nbconvert_exporter": "python",
   "pygments_lexer": "ipython3",
   "version": "3.11.4"
  }
 },
 "nbformat": 4,
 "nbformat_minor": 5
}
